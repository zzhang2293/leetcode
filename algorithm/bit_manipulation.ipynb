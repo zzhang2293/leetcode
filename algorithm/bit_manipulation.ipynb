{
 "cells": [
  {
   "cell_type": "markdown",
   "source": [
    "## XOR Operation"
   ],
   "metadata": {
    "collapsed": false
   },
   "id": "f8d49ef1a6902463"
  },
  {
   "cell_type": "markdown",
   "source": [
    "Swap Two Number"
   ],
   "metadata": {
    "collapsed": false
   },
   "id": "26619935f86ea413"
  },
  {
   "cell_type": "code",
   "outputs": [
    {
     "name": "stdout",
     "output_type": "stream",
     "text": [
      "3 0\n"
     ]
    }
   ],
   "source": [
    "x = 0\n",
    "y = 3\n",
    "x = x ^ y\n",
    "y = x ^ y\n",
    "x = x ^ y\n",
    "print(x, y)"
   ],
   "metadata": {
    "collapsed": false,
    "ExecuteTime": {
     "end_time": "2023-12-27T21:08:15.913640Z",
     "start_time": "2023-12-27T21:08:15.911414Z"
    }
   },
   "id": "fe4461437c17dbfd",
   "execution_count": 3
  },
  {
   "cell_type": "markdown",
   "source": [
    "Do not use if and comparison, return the larger value"
   ],
   "metadata": {
    "collapsed": false
   },
   "id": "f1484036b081c3bf"
  },
  {
   "cell_type": "code",
   "outputs": [
    {
     "data": {
      "text/plain": "200"
     },
     "execution_count": 11,
     "metadata": {},
     "output_type": "execute_result"
    }
   ],
   "source": [
    "def flip(n: int) -> int:\n",
    "    return n ^ 1\n",
    "def sign(n: int) -> int:\n",
    "    \"\"\"\n",
    "    negative value return 1\n",
    "    non-negative value return 0\n",
    "    \"\"\"\n",
    "    return flip(n >> 31) & 1\n",
    "def max_val(a: int, b: int) -> int:\n",
    "    dif = a - b\n",
    "    returnA = sign(dif)\n",
    "    returnB = flip(returnA)\n",
    "    return a * returnA + b * returnB\n",
    "\n",
    "max_val(200,3)\n",
    "    \n"
   ],
   "metadata": {
    "collapsed": false,
    "ExecuteTime": {
     "end_time": "2023-12-27T21:25:51.836503Z",
     "start_time": "2023-12-27T21:25:51.833504Z"
    }
   },
   "id": "a81f391cba050f5a",
   "execution_count": 11
  },
  {
   "cell_type": "code",
   "outputs": [
    {
     "data": {
      "text/plain": "0"
     },
     "execution_count": 6,
     "metadata": {},
     "output_type": "execute_result"
    }
   ],
   "source": [],
   "metadata": {
    "collapsed": false,
    "ExecuteTime": {
     "end_time": "2023-12-27T21:24:03.309789Z",
     "start_time": "2023-12-27T21:24:03.305949Z"
    }
   },
   "id": "ea9525062e35bba6",
   "execution_count": 6
  },
  {
   "cell_type": "code",
   "outputs": [
    {
     "data": {
      "text/plain": "8"
     },
     "execution_count": 16,
     "metadata": {},
     "output_type": "execute_result"
    }
   ],
   "source": [
    "8 & (-8)"
   ],
   "metadata": {
    "collapsed": false,
    "ExecuteTime": {
     "end_time": "2023-12-27T21:58:45.509598Z",
     "start_time": "2023-12-27T21:58:45.507038Z"
    }
   },
   "id": "c2e54b72e3a5a585",
   "execution_count": 16
  },
  {
   "cell_type": "code",
   "outputs": [
    {
     "data": {
      "text/plain": "8"
     },
     "execution_count": 17,
     "metadata": {},
     "output_type": "execute_result"
    }
   ],
   "source": [
    "0b1000"
   ],
   "metadata": {
    "collapsed": false,
    "ExecuteTime": {
     "end_time": "2023-12-27T21:58:56.292949Z",
     "start_time": "2023-12-27T21:58:56.290809Z"
    }
   },
   "id": "520565135eeb89d4",
   "execution_count": 17
  },
  {
   "cell_type": "code",
   "outputs": [
    {
     "data": {
      "text/plain": "[5, 3]"
     },
     "execution_count": 26,
     "metadata": {},
     "output_type": "execute_result"
    }
   ],
   "source": [
    "arr = [1,2,1,3,2,5]\n",
    "\n",
    "def get_diff(arr: list):\n",
    "    a_xor_b = 0\n",
    "    for i in arr:\n",
    "        a_xor_b ^= i\n",
    "    get_first_diff = a_xor_b & (-a_xor_b)\n",
    "    get_one_val = 0\n",
    "    for i in arr:\n",
    "        if i & get_first_diff == 0: get_one_val ^= i\n",
    "    other = a_xor_b ^ get_one_val\n",
    "    return [get_one_val, other]\n",
    "get_diff(arr)\n",
    "    "
   ],
   "metadata": {
    "collapsed": false,
    "ExecuteTime": {
     "end_time": "2023-12-27T22:24:08.619841Z",
     "start_time": "2023-12-27T22:24:08.609944Z"
    }
   },
   "id": "32232a735cc6674b",
   "execution_count": 26
  },
  {
   "cell_type": "code",
   "outputs": [
    {
     "data": {
      "text/plain": "True"
     },
     "execution_count": 28,
     "metadata": {},
     "output_type": "execute_result"
    }
   ],
   "source": [
    "a = 3\n",
    "b = 3\n",
    "a == b is not True"
   ],
   "metadata": {
    "collapsed": false,
    "ExecuteTime": {
     "end_time": "2023-12-28T05:05:38.140596Z",
     "start_time": "2023-12-28T05:05:38.138268Z"
    }
   },
   "id": "5b21cd846dba1df5",
   "execution_count": 28
  },
  {
   "cell_type": "code",
   "outputs": [
    {
     "data": {
      "text/plain": "True"
     },
     "execution_count": 29,
     "metadata": {},
     "output_type": "execute_result"
    }
   ],
   "source": [
    "b is not True"
   ],
   "metadata": {
    "collapsed": false,
    "ExecuteTime": {
     "end_time": "2023-12-28T05:06:05.849372Z",
     "start_time": "2023-12-28T05:06:05.846337Z"
    }
   },
   "id": "a6f30d6a728cb7c9",
   "execution_count": 29
  },
  {
   "cell_type": "code",
   "outputs": [
    {
     "data": {
      "text/plain": "True"
     },
     "execution_count": 36,
     "metadata": {},
     "output_type": "execute_result"
    }
   ],
   "source": [
    "x = 0\n",
    "x is not True"
   ],
   "metadata": {
    "collapsed": false,
    "ExecuteTime": {
     "end_time": "2023-12-28T05:07:10.586885Z",
     "start_time": "2023-12-28T05:07:10.585888Z"
    }
   },
   "id": "9addff5bd7970711",
   "execution_count": 36
  },
  {
   "cell_type": "code",
   "outputs": [
    {
     "name": "stdout",
     "output_type": "stream",
     "text": [
      "False\n",
      "True\n"
     ]
    }
   ],
   "source": [
    "x = 1\n",
    "print(x is True)\n",
    "print(x == True)"
   ],
   "metadata": {
    "collapsed": false,
    "ExecuteTime": {
     "end_time": "2023-12-28T05:09:07.197363Z",
     "start_time": "2023-12-28T05:09:07.195249Z"
    }
   },
   "id": "21b624e948b8f9a",
   "execution_count": 41
  },
  {
   "cell_type": "code",
   "outputs": [],
   "source": [],
   "metadata": {
    "collapsed": false
   },
   "id": "613fae6e447cb1c"
  }
 ],
 "metadata": {
  "kernelspec": {
   "display_name": "Python 3",
   "language": "python",
   "name": "python3"
  },
  "language_info": {
   "codemirror_mode": {
    "name": "ipython",
    "version": 2
   },
   "file_extension": ".py",
   "mimetype": "text/x-python",
   "name": "python",
   "nbconvert_exporter": "python",
   "pygments_lexer": "ipython2",
   "version": "2.7.6"
  }
 },
 "nbformat": 4,
 "nbformat_minor": 5
}
